{
 "metadata": {
  "name": "neural_network"
 },
 "nbformat": 3,
 "nbformat_minor": 0,
 "worksheets": [
  {
   "cells": [
    {
     "cell_type": "code",
     "collapsed": false,
     "input": [
      "import pylab as pl\n",
      "import pandas as pd\n",
      "import numpy as np\n",
      "\n",
      "from sklearn import datasets, svm, metrics\n",
      "from sklearn.ensemble import RandomForestClassifier\n",
      "\n",
      "from pybrain.datasets            import ClassificationDataSet\n",
      "from pybrain.utilities           import percentError\n",
      "from pybrain.tools.shortcuts     import buildNetwork\n",
      "from pybrain.supervised.trainers import BackpropTrainer\n",
      "from pybrain.structure.modules   import SoftmaxLayer,SigmoidLayer"
     ],
     "language": "python",
     "metadata": {},
     "outputs": [],
     "prompt_number": 1
    },
    {
     "cell_type": "code",
     "collapsed": false,
     "input": [
      "print \"Loading training data...\"\n",
      "digits_train = np.loadtxt(open(\"train.csv\",\"rb\"),delimiter=\",\",skiprows=1)\n",
      "\n",
      "targets_train = np.zeros(digits_train.shape[0],dtype = np.int64)\n",
      "\n",
      "targets_train[:] = digits_train[:,0]\n",
      "features_train= digits_train[:,1:]\n",
      "\n",
      "print \"Loading test data...\"\n",
      "features_test = np.loadtxt(open(\"test.csv\",\"rb\"),delimiter=\",\",skiprows=1)"
     ],
     "language": "python",
     "metadata": {},
     "outputs": [
      {
       "output_type": "stream",
       "stream": "stdout",
       "text": [
        "Loading training data...\n",
        "Loading test data..."
       ]
      },
      {
       "output_type": "stream",
       "stream": "stdout",
       "text": [
        "\n"
       ]
      }
     ],
     "prompt_number": 2
    },
    {
     "cell_type": "code",
     "collapsed": false,
     "input": [
      "#Alternatively, use the digits dataset from scikit-learn\n",
      "digits = datasets.load_digits()\n",
      "n_samples = len(digits.images)\n",
      "features_train = digits.images.reshape((n_samples, -1))\n",
      "targets_train = digits.target"
     ],
     "language": "python",
     "metadata": {},
     "outputs": [],
     "prompt_number": 139
    },
    {
     "cell_type": "code",
     "collapsed": false,
     "input": [
      "from scipy.ndimage.interpolation import zoom\n",
      "\n",
      "\n",
      "def zoom_features(features,dim):\n",
      "    zoomed_features = np.zeros((features.shape[0],dim*dim))\n",
      "    n = int(floor(sqrt(len(features[0]))))\n",
      "    for i in range(0,len(features)):\n",
      "        feature_image = features[i].reshape((n,n))\n",
      "        result = zoom(feature_image,dim/float(n))\n",
      "        zoomed_features[i] = result.reshape(dim*dim)/256.0\n",
      "    return zoomed_features\n",
      "\n",
      "def enrich_features(features):\n",
      "    features = features.resize(features.shape[0]+1)\n",
      "    features[-1] = sum(features[:2]/float(len(features)))\n",
      "\n",
      "zoomed_features_train = zoom_features(features_train,28)\n",
      "zoomed_features_test = zoom_features(features_test,28)"
     ],
     "language": "python",
     "metadata": {},
     "outputs": [
      {
       "ename": "MemoryError",
       "evalue": "",
       "output_type": "pyerr",
       "traceback": [
        "\u001b[1;31m---------------------------------------------------------------------------\u001b[0m\n\u001b[1;31mMemoryError\u001b[0m                               Traceback (most recent call last)",
        "\u001b[1;32m<ipython-input-33-81b688ef0dba>\u001b[0m in \u001b[0;36m<module>\u001b[1;34m()\u001b[0m\n\u001b[0;32m     15\u001b[0m     \u001b[0mfeatures\u001b[0m\u001b[1;33m[\u001b[0m\u001b[1;33m-\u001b[0m\u001b[1;36m1\u001b[0m\u001b[1;33m]\u001b[0m \u001b[1;33m=\u001b[0m \u001b[0msum\u001b[0m\u001b[1;33m(\u001b[0m\u001b[0mfeatures\u001b[0m\u001b[1;33m[\u001b[0m\u001b[1;33m:\u001b[0m\u001b[1;36m2\u001b[0m\u001b[1;33m]\u001b[0m\u001b[1;33m/\u001b[0m\u001b[0mfloat\u001b[0m\u001b[1;33m(\u001b[0m\u001b[0mlen\u001b[0m\u001b[1;33m(\u001b[0m\u001b[0mfeatures\u001b[0m\u001b[1;33m)\u001b[0m\u001b[1;33m)\u001b[0m\u001b[1;33m)\u001b[0m\u001b[1;33m\u001b[0m\u001b[0m\n\u001b[0;32m     16\u001b[0m \u001b[1;33m\u001b[0m\u001b[0m\n\u001b[1;32m---> 17\u001b[1;33m \u001b[0mzoomed_features_train\u001b[0m \u001b[1;33m=\u001b[0m \u001b[0mzoom_features\u001b[0m\u001b[1;33m(\u001b[0m\u001b[0mfeatures_train\u001b[0m\u001b[1;33m,\u001b[0m\u001b[1;36m28\u001b[0m\u001b[1;33m)\u001b[0m\u001b[1;33m\u001b[0m\u001b[0m\n\u001b[0m\u001b[0;32m     18\u001b[0m \u001b[0mzoomed_features_test\u001b[0m \u001b[1;33m=\u001b[0m \u001b[0mzoom_features\u001b[0m\u001b[1;33m(\u001b[0m\u001b[0mfeatures_test\u001b[0m\u001b[1;33m,\u001b[0m\u001b[1;36m28\u001b[0m\u001b[1;33m)\u001b[0m\u001b[1;33m\u001b[0m\u001b[0m\n",
        "\u001b[1;32m<ipython-input-33-81b688ef0dba>\u001b[0m in \u001b[0;36mzoom_features\u001b[1;34m(features, dim)\u001b[0m\n\u001b[0;32m      3\u001b[0m \u001b[1;33m\u001b[0m\u001b[0m\n\u001b[0;32m      4\u001b[0m \u001b[1;32mdef\u001b[0m \u001b[0mzoom_features\u001b[0m\u001b[1;33m(\u001b[0m\u001b[0mfeatures\u001b[0m\u001b[1;33m,\u001b[0m\u001b[0mdim\u001b[0m\u001b[1;33m)\u001b[0m\u001b[1;33m:\u001b[0m\u001b[1;33m\u001b[0m\u001b[0m\n\u001b[1;32m----> 5\u001b[1;33m     \u001b[0mzoomed_features\u001b[0m \u001b[1;33m=\u001b[0m \u001b[0mnp\u001b[0m\u001b[1;33m.\u001b[0m\u001b[0mzeros\u001b[0m\u001b[1;33m(\u001b[0m\u001b[1;33m(\u001b[0m\u001b[0mfeatures\u001b[0m\u001b[1;33m.\u001b[0m\u001b[0mshape\u001b[0m\u001b[1;33m[\u001b[0m\u001b[1;36m0\u001b[0m\u001b[1;33m]\u001b[0m\u001b[1;33m,\u001b[0m\u001b[0mdim\u001b[0m\u001b[1;33m*\u001b[0m\u001b[0mdim\u001b[0m\u001b[1;33m)\u001b[0m\u001b[1;33m)\u001b[0m\u001b[1;33m\u001b[0m\u001b[0m\n\u001b[0m\u001b[0;32m      6\u001b[0m     \u001b[0mn\u001b[0m \u001b[1;33m=\u001b[0m \u001b[0mint\u001b[0m\u001b[1;33m(\u001b[0m\u001b[0mfloor\u001b[0m\u001b[1;33m(\u001b[0m\u001b[0msqrt\u001b[0m\u001b[1;33m(\u001b[0m\u001b[0mlen\u001b[0m\u001b[1;33m(\u001b[0m\u001b[0mfeatures\u001b[0m\u001b[1;33m[\u001b[0m\u001b[1;36m0\u001b[0m\u001b[1;33m]\u001b[0m\u001b[1;33m)\u001b[0m\u001b[1;33m)\u001b[0m\u001b[1;33m)\u001b[0m\u001b[1;33m)\u001b[0m\u001b[1;33m\u001b[0m\u001b[0m\n\u001b[0;32m      7\u001b[0m     \u001b[1;32mfor\u001b[0m \u001b[0mi\u001b[0m \u001b[1;32min\u001b[0m \u001b[0mrange\u001b[0m\u001b[1;33m(\u001b[0m\u001b[1;36m0\u001b[0m\u001b[1;33m,\u001b[0m\u001b[0mlen\u001b[0m\u001b[1;33m(\u001b[0m\u001b[0mfeatures\u001b[0m\u001b[1;33m)\u001b[0m\u001b[1;33m)\u001b[0m\u001b[1;33m:\u001b[0m\u001b[1;33m\u001b[0m\u001b[0m\n",
        "\u001b[1;31mMemoryError\u001b[0m: "
       ]
      }
     ],
     "prompt_number": 33
    },
    {
     "cell_type": "code",
     "collapsed": false,
     "input": [
      "plt.figure(figsize = (12,6))\n",
      "for i in range(0,32):\n",
      "    image = zoomed_features_train[i]\n",
      "    dim = floor(sqrt(image.shape[0]))\n",
      "    image = image.reshape((dim,dim))\n",
      "    label = targets_train[i]\n",
      "    pl.subplot(4, 8, i + 1)\n",
      "    pl.axis('off')\n",
      "    pl.winter()\n",
      "    pl.imshow(image,interpolation='nearest')\n",
      "    pl.title('Training: %i' % label)"
     ],
     "language": "python",
     "metadata": {},
     "outputs": [
      {
       "output_type": "display_data",
       "png": "[encoded data removed]"
      }
     ],
     "prompt_number": 4
    },
    {
     "cell_type": "code",
     "collapsed": false,
     "input": [
      "alldata = ClassificationDataSet(zoomed_features_train.shape[1], 1, nb_classes = 10)\n",
      "n_samples = int(len(zoomed_features_train))\n",
      "for i in xrange(n_samples):\n",
      "    alldata.addSample(zoomed_features_train[i], [targets_train[i]])"
     ],
     "language": "python",
     "metadata": {},
     "outputs": [],
     "prompt_number": 26
    },
    {
     "cell_type": "code",
     "collapsed": false,
     "input": [
      "testdata = ClassificationDataSet(zoomed_features_test.shape[1], 1, nb_classes = 10)\n",
      "n_samples = int(len(zoomed_features_test))\n",
      "for i in xrange(n_samples):\n",
      "    testdata.addSample(zoomed_features_test[i],0)"
     ],
     "language": "python",
     "metadata": {},
     "outputs": [],
     "prompt_number": 27
    },
    {
     "cell_type": "code",
     "collapsed": false,
     "input": [
      "tstdata, trndata = alldata.splitWithProportion( 0.2 )"
     ],
     "language": "python",
     "metadata": {},
     "outputs": [],
     "prompt_number": 28
    },
    {
     "cell_type": "code",
     "collapsed": false,
     "input": [
      "trndata._convertToOneOfMany( )\n",
      "tstdata._convertToOneOfMany( )"
     ],
     "language": "python",
     "metadata": {},
     "outputs": [],
     "prompt_number": 29
    },
    {
     "cell_type": "code",
     "collapsed": false,
     "input": [
      "print \"Number of training patterns: \", len(trndata)\n",
      "print \"Input and output dimensions: \", trndata.indim, trndata.outdim\n",
      "print \"First sample (input, target, class):\"\n",
      "#print trndata['input'][0], trndata['target'][0], trndata['class'][0]\n"
     ],
     "language": "python",
     "metadata": {},
     "outputs": [
      {
       "output_type": "stream",
       "stream": "stdout",
       "text": [
        "Number of training patterns:  33600\n",
        "Input and output dimensions:  256 10\n",
        "First sample (input, target, class):\n"
       ]
      }
     ],
     "prompt_number": 30
    },
    {
     "cell_type": "code",
     "collapsed": false,
     "input": [
      "fnn = buildNetwork( trndata.indim, trndata.indim*2, trndata.outdim, outclass=SoftmaxLayer ,hiddenclass = SigmoidLayer)"
     ],
     "language": "python",
     "metadata": {},
     "outputs": [],
     "prompt_number": 9
    },
    {
     "cell_type": "code",
     "collapsed": false,
     "input": [
      "trainer = BackpropTrainer( fnn, dataset=trndata, momentum=0.1, lrdecay = 1.0, verbose=True, weightdecay=0.001)"
     ],
     "language": "python",
     "metadata": {},
     "outputs": [],
     "prompt_number": 10
    },
    {
     "cell_type": "code",
     "collapsed": false,
     "input": [
      "for i in range(0,5):\n",
      "    trainer.trainEpochs(1)"
     ],
     "language": "python",
     "metadata": {},
     "outputs": [
      {
       "output_type": "stream",
       "stream": "stdout",
       "text": [
        "Total error: 0.00588372164311\n",
        "Total error:"
       ]
      },
      {
       "output_type": "stream",
       "stream": "stdout",
       "text": [
        " 0.00649374792506\n",
        "Total error:"
       ]
      },
      {
       "output_type": "stream",
       "stream": "stdout",
       "text": [
        " 0.00692923847883\n",
        "Total error:"
       ]
      },
      {
       "output_type": "stream",
       "stream": "stdout",
       "text": [
        " 0.00703286757584\n",
        "Total error:"
       ]
      },
      {
       "output_type": "stream",
       "stream": "stdout",
       "text": [
        " 0.00716905720046\n"
       ]
      }
     ],
     "prompt_number": 15
    },
    {
     "cell_type": "code",
     "collapsed": false,
     "input": [
      "trnresult = percentError( trainer.testOnClassData(),trndata['class'] )\n",
      "tstresult = percentError( trainer.testOnClassData(dataset=tstdata ), tstdata['class'] )\n",
      "print \"epoch: %4d\" % trainer.totalepochs, \\\n",
      "       \"  train error: %5.2f%%\" % trnresult, \\\n",
      "       \"  test error: %5.2f%%\" % tstresult"
     ],
     "language": "python",
     "metadata": {},
     "outputs": [
      {
       "output_type": "stream",
       "stream": "stdout",
       "text": [
        "epoch:    8   train error:  9.96%   test error: 10.49%\n"
       ]
      }
     ],
     "prompt_number": 16
    },
    {
     "cell_type": "code",
     "collapsed": false,
     "input": [
      "# Now predict the value of the digit on the second half:\n",
      "targets_train_validation = trainer.testOnClassData(dataset=alldata )\n",
      "\n",
      "print \"Confusion matrix:\\n%s\" % metrics.confusion_matrix(targets_train, targets_train_validation)\n",
      "\n",
      "print \"\\n\\nMisclassifications: %g %%\" % (sum(targets_train_validation != targets_train)/float(len(targets_train_validation))*100)"
     ],
     "language": "python",
     "metadata": {},
     "outputs": [
      {
       "output_type": "stream",
       "stream": "stdout",
       "text": [
        "Confusion matrix:\n",
        "[[3787    0    4    2    3  258   43   13   20    2]\n",
        " [   0 4548    9    9    4   63    9   10   27    5]\n",
        " [  21   50 3584   63   54   85  124   91   83   22]\n",
        " [   9   34   61 3440    0  589   28   61   81   48]\n",
        " [   7   23   14    2 3571   45  104   25   11  270]\n",
        " [  11   14    1   17   12 3661   40   11    8   20]\n",
        " [  21    7    5    0    5  123 3962    9    4    1]\n",
        " [   6   41   39    5   15   28    4 4150    4  109]\n",
        " [  15   86   16   57    7  419   53   21 3333   56]\n",
        " [  22   20    5   25   67  118    5  161   27 3738]]\n",
        "\n",
        "\n",
        "Misclassifications: 10.0619 %\n"
       ]
      }
     ],
     "prompt_number": 19
    },
    {
     "cell_type": "code",
     "collapsed": false,
     "input": [
      "targets_test = trainer.testOnClassData(dataset=testdata )"
     ],
     "language": "python",
     "metadata": {},
     "outputs": [],
     "prompt_number": 31
    },
    {
     "cell_type": "code",
     "collapsed": false,
     "input": [
      "plt.figure(figsize = (12,6))\n",
      "for i in range(0,32):\n",
      "    image = zoomed_features_test[i]\n",
      "    dim = floor(sqrt(image.shape[0]))\n",
      "    image = image.reshape((dim,dim))\n",
      "    label = targets_test[i]\n",
      "    pl.subplot(4, 8, i + 1)\n",
      "    pl.axis('off')\n",
      "    pl.winter()\n",
      "    pl.imshow(image,interpolation='nearest')\n",
      "    pl.title('Training: %i' % label)"
     ],
     "language": "python",
     "metadata": {},
     "outputs": []
    },
    {
     "cell_type": "code",
     "collapsed": false,
     "input": [
      "with open(\"result.csv\",\"wb\") as f:\n",
      "    for target in targets_test:\n",
      "        f.write(\"%d\\n\" % target)"
     ],
     "language": "python",
     "metadata": {},
     "outputs": [],
     "prompt_number": 276
    }
   ],
   "metadata": {}
  }
 ]
}